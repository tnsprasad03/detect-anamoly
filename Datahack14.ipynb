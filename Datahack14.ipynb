{
 "metadata": {
  "name": ""
 },
 "nbformat": 3,
 "nbformat_minor": 0,
 "worksheets": [
  {
   "cells": [
    {
     "cell_type": "code",
     "collapsed": false,
     "input": [
      "import networkx as nx\n",
      "import matplotlib.pyplot as plt\n",
      "import numpy as np\n",
      "import toolz\n",
      "import pandas as pd\n",
      "import pandas as pd\n",
      "import graphlab\n",
      "import os\n",
      "\n",
      "%pylab inline"
     ],
     "language": "python",
     "metadata": {},
     "outputs": [
      {
       "output_type": "stream",
       "stream": "stdout",
       "text": [
        "Populating the interactive namespace from numpy and matplotlib\n"
       ]
      }
     ],
     "prompt_number": 1
    },
    {
     "cell_type": "code",
     "collapsed": false,
     "input": [
      "data = graphlab.SFrame.read_csv('hack_small.csv', delimiter=',')"
     ],
     "language": "python",
     "metadata": {},
     "outputs": [
      {
       "output_type": "stream",
       "stream": "stderr",
       "text": [
        "[INFO] Start server at: ipc:///tmp/graphlab_server-9464 - Server binary: /Users/Prasad/anaconda/lib/python2.7/site-packages/graphlab/unity_server - Server log: /tmp/graphlab_server_1405217040.log\n"
       ]
      },
      {
       "output_type": "stream",
       "stream": "stderr",
       "text": [
        "[INFO] GraphLab Server Version: 0.3.0\n"
       ]
      }
     ],
     "prompt_number": 2
    },
    {
     "cell_type": "code",
     "collapsed": false,
     "input": [
      "data.head()"
     ],
     "language": "python",
     "metadata": {},
     "outputs": [
      {
       "html": [
        "<div style=\"max-height:1000px;max-width:1500px;overflow:auto;\">\n",
        "<table border=\"1\" class=\"dataframe\">\n",
        "  <thead>\n",
        "    <tr style=\"text-align: right;\">\n",
        "      <th></th>\n",
        "      <th>cdate</th>\n",
        "      <th>chour</th>\n",
        "      <th>cust_orgno</th>\n",
        "      <th>supp_orgno</th>\n",
        "      <th>destadmin_orgno</th>\n",
        "      <th>servabbr</th>\n",
        "      <th>callgno</th>\n",
        "      <th>calldno</th>\n",
        "      <th>origpricingdestid</th>\n",
        "      <th>pricingdestid</th>\n",
        "      <th>routingdestcd</th>\n",
        "      <th>causecode</th>\n",
        "      <th>answind</th>\n",
        "      <th>bouncedcallind</th>\n",
        "      <th>attempts</th>\n",
        "      <th>cvrsn_dur</th>\n",
        "    </tr>\n",
        "  </thead>\n",
        "  <tbody>\n",
        "    <tr>\n",
        "      <th>0</th>\n",
        "      <td> 20140627</td>\n",
        "      <td> 00</td>\n",
        "      <td>    36</td>\n",
        "      <td>      </td>\n",
        "      <td> </td>\n",
        "      <td>        </td>\n",
        "      <td>  213660646009</td>\n",
        "      <td>  242800112117</td>\n",
        "      <td>  370</td>\n",
        "      <td>     99</td>\n",
        "      <td>     212</td>\n",
        "      <td> IBLK812</td>\n",
        "      <td> N</td>\n",
        "      <td> N</td>\n",
        "      <td> 1</td>\n",
        "      <td> 0</td>\n",
        "    </tr>\n",
        "    <tr>\n",
        "      <th>1</th>\n",
        "      <td> 20140627</td>\n",
        "      <td> 00</td>\n",
        "      <td> 15309</td>\n",
        "      <td>   499</td>\n",
        "      <td> </td>\n",
        "      <td>      TP</td>\n",
        "      <td> 9779867710086</td>\n",
        "      <td>  917525819747</td>\n",
        "      <td>     </td>\n",
        "      <td>  13187</td>\n",
        "      <td>  119171</td>\n",
        "      <td>  NNA731</td>\n",
        "      <td> N</td>\n",
        "      <td> N</td>\n",
        "      <td> 1</td>\n",
        "      <td> 0</td>\n",
        "    </tr>\n",
        "    <tr>\n",
        "      <th>2</th>\n",
        "      <td> 20140627</td>\n",
        "      <td> 00</td>\n",
        "      <td> 22381</td>\n",
        "      <td>      </td>\n",
        "      <td> </td>\n",
        "      <td>        </td>\n",
        "      <td>   12103677877</td>\n",
        "      <td>     573700845</td>\n",
        "      <td> 1469</td>\n",
        "      <td>     90</td>\n",
        "      <td>     861</td>\n",
        "      <td>     NEV</td>\n",
        "      <td> N</td>\n",
        "      <td> N</td>\n",
        "      <td> 1</td>\n",
        "      <td> 0</td>\n",
        "    </tr>\n",
        "    <tr>\n",
        "      <th>3</th>\n",
        "      <td> 20140627</td>\n",
        "      <td> 00</td>\n",
        "      <td> 15309</td>\n",
        "      <td>   499</td>\n",
        "      <td> </td>\n",
        "      <td>      TP</td>\n",
        "      <td> 9779847201600</td>\n",
        "      <td>  918483815584</td>\n",
        "      <td>     </td>\n",
        "      <td>  13187</td>\n",
        "      <td>   13948</td>\n",
        "      <td>  NNA716</td>\n",
        "      <td> N</td>\n",
        "      <td> N</td>\n",
        "      <td> 1</td>\n",
        "      <td> 0</td>\n",
        "    </tr>\n",
        "    <tr>\n",
        "      <th>4</th>\n",
        "      <td> 20140627</td>\n",
        "      <td> 00</td>\n",
        "      <td> 24284</td>\n",
        "      <td>    57</td>\n",
        "      <td> </td>\n",
        "      <td> VTSPREF</td>\n",
        "      <td>   17863451573</td>\n",
        "      <td>   19494117781</td>\n",
        "      <td> 1421</td>\n",
        "      <td>    370</td>\n",
        "      <td> 2999995</td>\n",
        "      <td>  FEV701</td>\n",
        "      <td> N</td>\n",
        "      <td> N</td>\n",
        "      <td> 1</td>\n",
        "      <td> 0</td>\n",
        "    </tr>\n",
        "    <tr>\n",
        "      <th>5</th>\n",
        "      <td> 20140627</td>\n",
        "      <td> 00</td>\n",
        "      <td> 15309</td>\n",
        "      <td>   499</td>\n",
        "      <td> </td>\n",
        "      <td>      TP</td>\n",
        "      <td> 9779866909245</td>\n",
        "      <td>  919805607755</td>\n",
        "      <td>     </td>\n",
        "      <td>  13187</td>\n",
        "      <td>  119160</td>\n",
        "      <td>     FEF</td>\n",
        "      <td> N</td>\n",
        "      <td> N</td>\n",
        "      <td> 1</td>\n",
        "      <td> 0</td>\n",
        "    </tr>\n",
        "    <tr>\n",
        "      <th>6</th>\n",
        "      <td> 20140627</td>\n",
        "      <td> 00</td>\n",
        "      <td> 28888</td>\n",
        "      <td>   499</td>\n",
        "      <td> </td>\n",
        "      <td> VTSPREM</td>\n",
        "      <td> 9779617506990</td>\n",
        "      <td>  918962189710</td>\n",
        "      <td>     </td>\n",
        "      <td>  13187</td>\n",
        "      <td>   13927</td>\n",
        "      <td>  NNA716</td>\n",
        "      <td> N</td>\n",
        "      <td> N</td>\n",
        "      <td> 1</td>\n",
        "      <td> 0</td>\n",
        "    </tr>\n",
        "    <tr>\n",
        "      <th>7</th>\n",
        "      <td> 20140627</td>\n",
        "      <td> 00</td>\n",
        "      <td>   616</td>\n",
        "      <td>      </td>\n",
        "      <td> </td>\n",
        "      <td>        </td>\n",
        "      <td>    7322016230</td>\n",
        "      <td>   19196502662</td>\n",
        "      <td> 1351</td>\n",
        "      <td>   1403</td>\n",
        "      <td> 2004265</td>\n",
        "      <td>  NEU716</td>\n",
        "      <td> N</td>\n",
        "      <td> N</td>\n",
        "      <td> 1</td>\n",
        "      <td> 0</td>\n",
        "    </tr>\n",
        "    <tr>\n",
        "      <th>8</th>\n",
        "      <td> 20140627</td>\n",
        "      <td> 00</td>\n",
        "      <td> 27445</td>\n",
        "      <td>      </td>\n",
        "      <td> </td>\n",
        "      <td>        </td>\n",
        "      <td>      91899813</td>\n",
        "      <td>    8291819583</td>\n",
        "      <td>     </td>\n",
        "      <td>    322</td>\n",
        "      <td>     146</td>\n",
        "      <td>     NEV</td>\n",
        "      <td> N</td>\n",
        "      <td> N</td>\n",
        "      <td> 1</td>\n",
        "      <td> 0</td>\n",
        "    </tr>\n",
        "    <tr>\n",
        "      <th>9</th>\n",
        "      <td> 20140627</td>\n",
        "      <td> 00</td>\n",
        "      <td> 32952</td>\n",
        "      <td> 26574</td>\n",
        "      <td> </td>\n",
        "      <td> VTSPREM</td>\n",
        "      <td>   37066185005</td>\n",
        "      <td> 2349096145937</td>\n",
        "      <td>     </td>\n",
        "      <td> 127991</td>\n",
        "      <td>  117605</td>\n",
        "      <td>     FEF</td>\n",
        "      <td> N</td>\n",
        "      <td> N</td>\n",
        "      <td> 1</td>\n",
        "      <td> 0</td>\n",
        "    </tr>\n",
        "  </tbody>\n",
        "</table>\n",
        "<p>10 rows \u00d7 16 columns</p>\n",
        "</div>"
       ],
       "metadata": {},
       "output_type": "pyout",
       "prompt_number": 4,
       "text": [
        "      cdate chour cust_orgno supp_orgno destadmin_orgno servabbr  \\\n",
        "0  20140627    00         36                                       \n",
        "1  20140627    00      15309        499                       TP   \n",
        "2  20140627    00      22381                                       \n",
        "3  20140627    00      15309        499                       TP   \n",
        "4  20140627    00      24284         57                  VTSPREF   \n",
        "5  20140627    00      15309        499                       TP   \n",
        "6  20140627    00      28888        499                  VTSPREM   \n",
        "7  20140627    00        616                                       \n",
        "8  20140627    00      27445                                       \n",
        "9  20140627    00      32952      26574                  VTSPREM   \n",
        "\n",
        "         callgno        calldno origpricingdestid pricingdestid routingdestcd  \\\n",
        "0   213660646009   242800112117               370            99           212   \n",
        "1  9779867710086   917525819747                           13187        119171   \n",
        "2    12103677877      573700845              1469            90           861   \n",
        "3  9779847201600   918483815584                           13187         13948   \n",
        "4    17863451573    19494117781              1421           370       2999995   \n",
        "5  9779866909245   919805607755                           13187        119160   \n",
        "6  9779617506990   918962189710                           13187         13927   \n",
        "7     7322016230    19196502662              1351          1403       2004265   \n",
        "8       91899813     8291819583                             322           146   \n",
        "9    37066185005  2349096145937                          127991        117605   \n",
        "\n",
        "  causecode answind bouncedcallind attempts cvrsn_dur  \n",
        "0   IBLK812       N              N        1         0  \n",
        "1    NNA731       N              N        1         0  \n",
        "2       NEV       N              N        1         0  \n",
        "3    NNA716       N              N        1         0  \n",
        "4    FEV701       N              N        1         0  \n",
        "5       FEF       N              N        1         0  \n",
        "6    NNA716       N              N        1         0  \n",
        "7    NEU716       N              N        1         0  \n",
        "8       NEV       N              N        1         0  \n",
        "9       FEF       N              N        1         0  \n",
        "\n",
        "[10 rows x 16 columns]"
       ]
      }
     ],
     "prompt_number": 4
    },
    {
     "cell_type": "code",
     "collapsed": false,
     "input": [
      "g = graphlab.SGraph()\n",
      "g = g.add_edges(data, src_field='callgno', dst_field='calldno')"
     ],
     "language": "python",
     "metadata": {},
     "outputs": [],
     "prompt_number": 5
    },
    {
     "cell_type": "code",
     "collapsed": false,
     "input": [
      "from graphlab import triangle_counting\n",
      "tc = triangle_counting.create(g)\n",
      "tc_out = tc['triangle_count']"
     ],
     "language": "python",
     "metadata": {},
     "outputs": [],
     "prompt_number": 6
    },
    {
     "cell_type": "code",
     "collapsed": false,
     "input": [
      "tc_out.save(\"xyz\",'csv')"
     ],
     "language": "python",
     "metadata": {},
     "outputs": [],
     "prompt_number": 6
    },
    {
     "cell_type": "code",
     "collapsed": false,
     "input": [
      "tc_out"
     ],
     "language": "python",
     "metadata": {},
     "outputs": [
      {
       "metadata": {},
       "output_type": "pyout",
       "prompt_number": 7,
       "text": [
        "Columns:\n",
        "\t__id\tstr\n",
        "\ttriangle_count\tint\n",
        "\n",
        "Rows: 932102\n",
        "\n",
        "Data:\n",
        "               __id  triangle_count\n",
        "0        0000000057               0\n",
        "1        0000000091               0\n",
        "2        0000004676               0\n",
        "3  0000055114316128               0\n",
        "4        0000123461               0\n",
        "5     0000502307976               0\n",
        "6      000190853208               0\n",
        "7      000196852206               0\n",
        "8          00023115               0\n",
        "9         000371115               0\n",
        "\n",
        "...\n",
        "[932102 rows x 2 columns]\n"
       ]
      }
     ],
     "prompt_number": 7
    },
    {
     "cell_type": "code",
     "collapsed": false,
     "input": [
      "tc.summary()"
     ],
     "language": "python",
     "metadata": {},
     "outputs": [
      {
       "metadata": {},
       "output_type": "pyout",
       "prompt_number": 8,
       "text": [
        "{'hyperparams': {}, 'num_triangles': 355207, 'runtime': 122.729509}"
       ]
      }
     ],
     "prompt_number": 8
    },
    {
     "cell_type": "code",
     "collapsed": false,
     "input": [
      "tempdf = tc.get('triangle_count').to_dataframe()"
     ],
     "language": "python",
     "metadata": {},
     "outputs": [],
     "prompt_number": 9
    },
    {
     "cell_type": "code",
     "collapsed": false,
     "input": [
      "tempdf.head()\n",
      "tempdf = tempdf.sort('triangle_count', ascending=False)\n",
      "tempdf[0:10]"
     ],
     "language": "python",
     "metadata": {},
     "outputs": [
      {
       "html": [
        "<div style=\"max-height:1000px;max-width:1500px;overflow:auto;\">\n",
        "<table border=\"1\" class=\"dataframe\">\n",
        "  <thead>\n",
        "    <tr style=\"text-align: right;\">\n",
        "      <th></th>\n",
        "      <th>__id</th>\n",
        "      <th>triangle_count</th>\n",
        "    </tr>\n",
        "  </thead>\n",
        "  <tbody>\n",
        "    <tr>\n",
        "      <th>815511</th>\n",
        "      <td>             </td>\n",
        "      <td> 1044088</td>\n",
        "    </tr>\n",
        "    <tr>\n",
        "      <th>253424</th>\n",
        "      <td>  16504793213</td>\n",
        "      <td>    1840</td>\n",
        "    </tr>\n",
        "    <tr>\n",
        "      <th>762004</th>\n",
        "      <td>   6531576447</td>\n",
        "      <td>    1332</td>\n",
        "    </tr>\n",
        "    <tr>\n",
        "      <th>173812</th>\n",
        "      <td>  61386521794</td>\n",
        "      <td>    1291</td>\n",
        "    </tr>\n",
        "    <tr>\n",
        "      <th>718940</th>\n",
        "      <td>  16504793212</td>\n",
        "      <td>    1234</td>\n",
        "    </tr>\n",
        "    <tr>\n",
        "      <th>88903 </th>\n",
        "      <td> 912066357371</td>\n",
        "      <td>     235</td>\n",
        "    </tr>\n",
        "    <tr>\n",
        "      <th>123387</th>\n",
        "      <td>  13053570815</td>\n",
        "      <td>      60</td>\n",
        "    </tr>\n",
        "    <tr>\n",
        "      <th>72166 </th>\n",
        "      <td>  85234101116</td>\n",
        "      <td>      41</td>\n",
        "    </tr>\n",
        "    <tr>\n",
        "      <th>270914</th>\n",
        "      <td> 380966456116</td>\n",
        "      <td>      36</td>\n",
        "    </tr>\n",
        "    <tr>\n",
        "      <th>11192 </th>\n",
        "      <td>  14072185582</td>\n",
        "      <td>      34</td>\n",
        "    </tr>\n",
        "  </tbody>\n",
        "</table>\n",
        "<p>10 rows \u00d7 2 columns</p>\n",
        "</div>"
       ],
       "metadata": {},
       "output_type": "pyout",
       "prompt_number": 10,
       "text": [
        "                __id  triangle_count\n",
        "815511                       1044088\n",
        "253424   16504793213            1840\n",
        "762004    6531576447            1332\n",
        "173812   61386521794            1291\n",
        "718940   16504793212            1234\n",
        "88903   912066357371             235\n",
        "123387   13053570815              60\n",
        "72166    85234101116              41\n",
        "270914  380966456116              36\n",
        "11192    14072185582              34\n",
        "\n",
        "[10 rows x 2 columns]"
       ]
      }
     ],
     "prompt_number": 10
    },
    {
     "cell_type": "code",
     "collapsed": false,
     "input": [
      "\n",
      "# def fetchSuspectCallers(callers,threshold):\n",
      "    \n",
      "#     print callers[0]\n",
      "#     callers = callers[callers.traingle_count> threshold]\n",
      "#     return callers\n",
      "\n",
      "   \n",
      "    \n",
      "    \n"
     ],
     "language": "python",
     "metadata": {},
     "outputs": [],
     "prompt_number": 11
    },
    {
     "cell_type": "code",
     "collapsed": false,
     "input": [
      "#tempdf['traingle_count' > 100]\n",
      "def fetchSuspectCallers(callers,threshold):\n",
      "    #tempdf.columns\n",
      "    x = callers[callers.triangle_count > threshold]\n",
      "    #returndf = fetchSuspectCallers(tempdf,235)\n",
      "    return x\n",
      " "
     ],
     "language": "python",
     "metadata": {},
     "outputs": [
      {
       "output_type": "stream",
       "stream": "stdout",
       "text": [
        "                __id  triangle_count\n",
        "815511                       1044088\n",
        "253424   16504793213            1840\n",
        "762004    6531576447            1332\n",
        "173812   61386521794            1291\n",
        "718940   16504793212            1234\n",
        "88903   912066357371             235\n",
        "123387   13053570815              60\n",
        "\n",
        "[7 rows x 2 columns]\n"
       ]
      }
     ],
     "prompt_number": 21
    },
    {
     "cell_type": "code",
     "collapsed": false,
     "input": [],
     "language": "python",
     "metadata": {},
     "outputs": []
    },
    {
     "cell_type": "code",
     "collapsed": false,
     "input": [
      "import pandas as pd"
     ],
     "language": "python",
     "metadata": {},
     "outputs": [],
     "prompt_number": 122
    },
    {
     "cell_type": "code",
     "collapsed": false,
     "input": [
      "df = pd.read_csv(\"hack_small.csv\")\n",
      "df = df.dropna(subset = [\"callgno\"])\n",
      "df = df.dropna(subset = [\"calldno\"])\n",
      "#df = df.dropna()\n",
      "df.shape"
     ],
     "language": "python",
     "metadata": {},
     "outputs": [
      {
       "metadata": {},
       "output_type": "pyout",
       "prompt_number": 158,
       "text": [
        "(952818, 16)"
       ]
      }
     ],
     "prompt_number": 158
    },
    {
     "cell_type": "code",
     "collapsed": false,
     "input": [
      "numbers = ['16504793213','6531576447','61386521794','16504793212','912066357371','13053570815']\n",
      "df_new = df\n",
      "df_new['label'] = 0\n",
      "print len(df_new)\n",
      "\n",
      "for num in numbers:\n",
      "    ind = df_new[df_new['callgno'] == num].index\n",
      "    df_new.loc[ind,'label']=1\n",
      "    ind2 = df_new[df_new['calldno'] == num].index\n",
      "    df_new.loc[ind2,'label']=1\n",
      "df_new.label.value_counts()"
     ],
     "language": "python",
     "metadata": {},
     "outputs": [
      {
       "output_type": "stream",
       "stream": "stdout",
       "text": [
        "952818\n"
       ]
      },
      {
       "metadata": {},
       "output_type": "pyout",
       "prompt_number": 159,
       "text": [
        "0    949507\n",
        "1      3311\n",
        "dtype: int64"
       ]
      }
     ],
     "prompt_number": 159
    },
    {
     "cell_type": "code",
     "collapsed": false,
     "input": [
      "df_new.to_csv(\"rf_feature\")\n",
      "\n"
     ],
     "language": "python",
     "metadata": {},
     "outputs": [],
     "prompt_number": 161
    },
    {
     "cell_type": "code",
     "collapsed": false,
     "input": [
      "df_final = df_new[['answind','origpricingdestid','routingdestcd','supp_orgno','cvrsn_dur','attempts','cust_orgno','pricingdestid']]\n"
     ],
     "language": "python",
     "metadata": {},
     "outputs": [],
     "prompt_number": 162
    },
    {
     "cell_type": "code",
     "collapsed": false,
     "input": [
      "df_final.answind.value_counts()"
     ],
     "language": "python",
     "metadata": {},
     "outputs": [
      {
       "metadata": {},
       "output_type": "pyout",
       "prompt_number": 163,
       "text": [
        "N    654306\n",
        "Y    298512\n",
        "dtype: int64"
       ]
      }
     ],
     "prompt_number": 163
    },
    {
     "cell_type": "code",
     "collapsed": false,
     "input": [
      "ind = df_final[df_final['answind'] == 'N'].index\n",
      "df_final.loc[ind,'answind']=0"
     ],
     "language": "python",
     "metadata": {},
     "outputs": [],
     "prompt_number": 164
    },
    {
     "cell_type": "code",
     "collapsed": false,
     "input": [
      "ind1 = df_final[df_final['answind'] == 'Y'].index\n",
      "df_final.loc[ind1,'answind']=1"
     ],
     "language": "python",
     "metadata": {},
     "outputs": [],
     "prompt_number": 165
    },
    {
     "cell_type": "code",
     "collapsed": false,
     "input": [
      "df_final.describe()"
     ],
     "language": "python",
     "metadata": {},
     "outputs": [
      {
       "html": [
        "<div style=\"max-height:1000px;max-width:1500px;overflow:auto;\">\n",
        "<table border=\"1\" class=\"dataframe\">\n",
        "  <thead>\n",
        "    <tr style=\"text-align: right;\">\n",
        "      <th></th>\n",
        "      <th>origpricingdestid</th>\n",
        "      <th>routingdestcd</th>\n",
        "      <th>supp_orgno</th>\n",
        "      <th>cvrsn_dur</th>\n",
        "      <th>attempts</th>\n",
        "      <th>cust_orgno</th>\n",
        "      <th>pricingdestid</th>\n",
        "    </tr>\n",
        "  </thead>\n",
        "  <tbody>\n",
        "    <tr>\n",
        "      <th>count</th>\n",
        "      <td> 491035.000000</td>\n",
        "      <td>  948674.000000</td>\n",
        "      <td> 884270.000000</td>\n",
        "      <td> 952818.000000</td>\n",
        "      <td> 952818</td>\n",
        "      <td> 952398.000000</td>\n",
        "      <td> 939753.000000</td>\n",
        "    </tr>\n",
        "    <tr>\n",
        "      <th>mean</th>\n",
        "      <td>   2388.611781</td>\n",
        "      <td>  188803.808176</td>\n",
        "      <td>  13076.910513</td>\n",
        "      <td>     73.000093</td>\n",
        "      <td>      1</td>\n",
        "      <td>  17196.875234</td>\n",
        "      <td>  24466.707023</td>\n",
        "    </tr>\n",
        "    <tr>\n",
        "      <th>std</th>\n",
        "      <td>  11033.162165</td>\n",
        "      <td>  542311.897887</td>\n",
        "      <td>  11016.188212</td>\n",
        "      <td>    296.412519</td>\n",
        "      <td>      0</td>\n",
        "      <td>  10360.366740</td>\n",
        "      <td>  45238.876885</td>\n",
        "    </tr>\n",
        "    <tr>\n",
        "      <th>min</th>\n",
        "      <td>      7.000000</td>\n",
        "      <td>       3.000000</td>\n",
        "      <td>     20.000000</td>\n",
        "      <td>      0.000000</td>\n",
        "      <td>      1</td>\n",
        "      <td>     20.000000</td>\n",
        "      <td>      2.000000</td>\n",
        "    </tr>\n",
        "    <tr>\n",
        "      <th>25%</th>\n",
        "      <td>    370.000000</td>\n",
        "      <td>     343.000000</td>\n",
        "      <td>   2211.000000</td>\n",
        "      <td>      0.000000</td>\n",
        "      <td>      1</td>\n",
        "      <td>   6511.000000</td>\n",
        "      <td>    198.000000</td>\n",
        "    </tr>\n",
        "    <tr>\n",
        "      <th>50%</th>\n",
        "      <td>   1212.000000</td>\n",
        "      <td>    8793.000000</td>\n",
        "      <td>  15964.000000</td>\n",
        "      <td>      0.000000</td>\n",
        "      <td>      1</td>\n",
        "      <td>  21092.000000</td>\n",
        "      <td>   1212.000000</td>\n",
        "    </tr>\n",
        "    <tr>\n",
        "      <th>75%</th>\n",
        "      <td>   1394.000000</td>\n",
        "      <td>  115939.000000</td>\n",
        "      <td>  24284.000000</td>\n",
        "      <td>      6.000000</td>\n",
        "      <td>      1</td>\n",
        "      <td>  25256.000000</td>\n",
        "      <td>  15467.000000</td>\n",
        "    </tr>\n",
        "    <tr>\n",
        "      <th>max</th>\n",
        "      <td> 138741.000000</td>\n",
        "      <td> 3000022.000000</td>\n",
        "      <td>  34793.000000</td>\n",
        "      <td>   5313.000000</td>\n",
        "      <td>      1</td>\n",
        "      <td>  34722.000000</td>\n",
        "      <td> 145305.000000</td>\n",
        "    </tr>\n",
        "  </tbody>\n",
        "</table>\n",
        "<p>8 rows \u00d7 7 columns</p>\n",
        "</div>"
       ],
       "metadata": {},
       "output_type": "pyout",
       "prompt_number": 166,
       "text": [
        "       origpricingdestid   routingdestcd     supp_orgno      cvrsn_dur  \\\n",
        "count      491035.000000   948674.000000  884270.000000  952818.000000   \n",
        "mean         2388.611781   188803.808176   13076.910513      73.000093   \n",
        "std         11033.162165   542311.897887   11016.188212     296.412519   \n",
        "min             7.000000        3.000000      20.000000       0.000000   \n",
        "25%           370.000000      343.000000    2211.000000       0.000000   \n",
        "50%          1212.000000     8793.000000   15964.000000       0.000000   \n",
        "75%          1394.000000   115939.000000   24284.000000       6.000000   \n",
        "max        138741.000000  3000022.000000   34793.000000    5313.000000   \n",
        "\n",
        "       attempts     cust_orgno  pricingdestid  \n",
        "count    952818  952398.000000  939753.000000  \n",
        "mean          1   17196.875234   24466.707023  \n",
        "std           0   10360.366740   45238.876885  \n",
        "min           1      20.000000       2.000000  \n",
        "25%           1    6511.000000     198.000000  \n",
        "50%           1   21092.000000    1212.000000  \n",
        "75%           1   25256.000000   15467.000000  \n",
        "max           1   34722.000000  145305.000000  \n",
        "\n",
        "[8 rows x 7 columns]"
       ]
      }
     ],
     "prompt_number": 166
    },
    {
     "cell_type": "code",
     "collapsed": false,
     "input": [
      "df_final.columns\n",
      "df_final = df_final.fillna(method = 'bfill',axis = 0)"
     ],
     "language": "python",
     "metadata": {},
     "outputs": [],
     "prompt_number": 171
    },
    {
     "cell_type": "code",
     "collapsed": false,
     "input": [
      "y = df['label'].values\n",
      "len(df_final)"
     ],
     "language": "python",
     "metadata": {},
     "outputs": [
      {
       "metadata": {},
       "output_type": "pyout",
       "prompt_number": 172,
       "text": [
        "952818"
       ]
      }
     ],
     "prompt_number": 172
    },
    {
     "cell_type": "code",
     "collapsed": false,
     "input": [
      "X = np.array(df_final)\n",
      "len(X)"
     ],
     "language": "python",
     "metadata": {},
     "outputs": [
      {
       "metadata": {},
       "output_type": "pyout",
       "prompt_number": 173,
       "text": [
        "952818"
       ]
      }
     ],
     "prompt_number": 173
    },
    {
     "cell_type": "code",
     "collapsed": false,
     "input": [
      "from sklearn.linear_model import LogisticRegression\n",
      "from sklearn.cross_validation import train_test_split\n",
      "from sklearn import cross_validation\n",
      "\n",
      "X_train, X_test, y_train, y_test = train_test_split(X, y, test_size=0.1, random_state=42)\n",
      "\n",
      "print \"Running Logistic Regression ...\"\n",
      "clf  = LogisticRegression(C=1, penalty='l2', tol=0.01)\n",
      "#clf = clf.fit(X_train, y_train)\n",
      "scores = cross_validation.cross_val_score(clf, X, y, cv=5)\n",
      "print \"%s -- %s\" % (clf.__class__, np.mean(scores))\n",
      "\n"
     ],
     "language": "python",
     "metadata": {},
     "outputs": [
      {
       "output_type": "stream",
       "stream": "stdout",
       "text": [
        "Running Logistic Regression ...\n",
        "<class 'sklearn.linear_model.logistic.LogisticRegression'> -- 0.996525044659"
       ]
      },
      {
       "output_type": "stream",
       "stream": "stdout",
       "text": [
        "\n"
       ]
      }
     ],
     "prompt_number": 185
    }
   ],
   "metadata": {}
  }
 ]
}