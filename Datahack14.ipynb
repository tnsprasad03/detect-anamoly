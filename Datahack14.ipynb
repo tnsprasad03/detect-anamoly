{
 "metadata": {
  "name": ""
 },
 "nbformat": 3,
 "nbformat_minor": 0,
 "worksheets": [
  {
   "cells": [
    {
     "cell_type": "code",
     "collapsed": false,
     "input": [
      "import networkx as nx\n",
      "import matplotlib.pyplot as plt\n",
      "import numpy as np\n",
      "import toolz\n",
      "import pandas as pd\n",
      "import pandas as pd\n",
      "import graphlab\n",
      "import os\n",
      "\n",
      "%pylab inline"
     ],
     "language": "python",
     "metadata": {},
     "outputs": [
      {
       "output_type": "stream",
       "stream": "stdout",
       "text": [
        "Populating the interactive namespace from numpy and matplotlib\n"
       ]
      }
     ],
     "prompt_number": 1
    },
    {
     "cell_type": "code",
     "collapsed": false,
     "input": [
      "data = graphlab.SFrame.read_csv('hack_small.csv', delimiter=',')"
     ],
     "language": "python",
     "metadata": {},
     "outputs": [
      {
       "output_type": "stream",
       "stream": "stderr",
       "text": [
        "[INFO] Start server at: ipc:///tmp/graphlab_server-9464 - Server binary: /Users/Prasad/anaconda/lib/python2.7/site-packages/graphlab/unity_server - Server log: /tmp/graphlab_server_1405217040.log\n"
       ]
      },
      {
       "output_type": "stream",
       "stream": "stderr",
       "text": [
        "[INFO] GraphLab Server Version: 0.3.0\n"
       ]
      }
     ],
     "prompt_number": 2
    },
    {
     "cell_type": "code",
     "collapsed": false,
     "input": [
      "data.head()"
     ],
     "language": "python",
     "metadata": {},
     "outputs": [
      {
       "html": [
        "<div style=\"max-height:1000px;max-width:1500px;overflow:auto;\">\n",
        "<table border=\"1\" class=\"dataframe\">\n",
        "  <thead>\n",
        "    <tr style=\"text-align: right;\">\n",
        "      <th></th>\n",
        "      <th>cdate</th>\n",
        "      <th>chour</th>\n",
        "      <th>cust_orgno</th>\n",
        "      <th>supp_orgno</th>\n",
        "      <th>destadmin_orgno</th>\n",
        "      <th>servabbr</th>\n",
        "      <th>callgno</th>\n",
        "      <th>calldno</th>\n",
        "      <th>origpricingdestid</th>\n",
        "      <th>pricingdestid</th>\n",
        "      <th>routingdestcd</th>\n",
        "      <th>causecode</th>\n",
        "      <th>answind</th>\n",
        "      <th>bouncedcallind</th>\n",
        "      <th>attempts</th>\n",
        "      <th>cvrsn_dur</th>\n",
        "    </tr>\n",
        "  </thead>\n",
        "  <tbody>\n",
        "    <tr>\n",
        "      <th>0</th>\n",
        "      <td> 20140627</td>\n",
        "      <td> 00</td>\n",
        "      <td>    36</td>\n",
        "      <td>      </td>\n",
        "      <td> </td>\n",
        "      <td>        </td>\n",
        "      <td>  213660646009</td>\n",
        "      <td>  242800112117</td>\n",
        "      <td>  370</td>\n",
        "      <td>     99</td>\n",
        "      <td>     212</td>\n",
        "      <td> IBLK812</td>\n",
        "      <td> N</td>\n",
        "      <td> N</td>\n",
        "      <td> 1</td>\n",
        "      <td> 0</td>\n",
        "    </tr>\n",
        "    <tr>\n",
        "      <th>1</th>\n",
        "      <td> 20140627</td>\n",
        "      <td> 00</td>\n",
        "      <td> 15309</td>\n",
        "      <td>   499</td>\n",
        "      <td> </td>\n",
        "      <td>      TP</td>\n",
        "      <td> 9779867710086</td>\n",
        "      <td>  917525819747</td>\n",
        "      <td>     </td>\n",
        "      <td>  13187</td>\n",
        "      <td>  119171</td>\n",
        "      <td>  NNA731</td>\n",
        "      <td> N</td>\n",
        "      <td> N</td>\n",
        "      <td> 1</td>\n",
        "      <td> 0</td>\n",
        "    </tr>\n",
        "    <tr>\n",
        "      <th>2</th>\n",
        "      <td> 20140627</td>\n",
        "      <td> 00</td>\n",
        "      <td> 22381</td>\n",
        "      <td>      </td>\n",
        "      <td> </td>\n",
        "      <td>        </td>\n",
        "      <td>   12103677877</td>\n",
        "      <td>     573700845</td>\n",
        "      <td> 1469</td>\n",
        "      <td>     90</td>\n",
        "      <td>     861</td>\n",
        "      <td>     NEV</td>\n",
        "      <td> N</td>\n",
        "      <td> N</td>\n",
        "      <td> 1</td>\n",
        "      <td> 0</td>\n",
        "    </tr>\n",
        "    <tr>\n",
        "      <th>3</th>\n",
        "      <td> 20140627</td>\n",
        "      <td> 00</td>\n",
        "      <td> 15309</td>\n",
        "      <td>   499</td>\n",
        "      <td> </td>\n",
        "      <td>      TP</td>\n",
        "      <td> 9779847201600</td>\n",
        "      <td>  918483815584</td>\n",
        "      <td>     </td>\n",
        "      <td>  13187</td>\n",
        "      <td>   13948</td>\n",
        "      <td>  NNA716</td>\n",
        "      <td> N</td>\n",
        "      <td> N</td>\n",
        "      <td> 1</td>\n",
        "      <td> 0</td>\n",
        "    </tr>\n",
        "    <tr>\n",
        "      <th>4</th>\n",
        "      <td> 20140627</td>\n",
        "      <td> 00</td>\n",
        "      <td> 24284</td>\n",
        "      <td>    57</td>\n",
        "      <td> </td>\n",
        "      <td> VTSPREF</td>\n",
        "      <td>   17863451573</td>\n",
        "      <td>   19494117781</td>\n",
        "      <td> 1421</td>\n",
        "      <td>    370</td>\n",
        "      <td> 2999995</td>\n",
        "      <td>  FEV701</td>\n",
        "      <td> N</td>\n",
        "      <td> N</td>\n",
        "      <td> 1</td>\n",
        "      <td> 0</td>\n",
        "    </tr>\n",
        "    <tr>\n",
        "      <th>5</th>\n",
        "      <td> 20140627</td>\n",
        "      <td> 00</td>\n",
        "      <td> 15309</td>\n",
        "      <td>   499</td>\n",
        "      <td> </td>\n",
        "      <td>      TP</td>\n",
        "      <td> 9779866909245</td>\n",
        "      <td>  919805607755</td>\n",
        "      <td>     </td>\n",
        "      <td>  13187</td>\n",
        "      <td>  119160</td>\n",
        "      <td>     FEF</td>\n",
        "      <td> N</td>\n",
        "      <td> N</td>\n",
        "      <td> 1</td>\n",
        "      <td> 0</td>\n",
        "    </tr>\n",
        "    <tr>\n",
        "      <th>6</th>\n",
        "      <td> 20140627</td>\n",
        "      <td> 00</td>\n",
        "      <td> 28888</td>\n",
        "      <td>   499</td>\n",
        "      <td> </td>\n",
        "      <td> VTSPREM</td>\n",
        "      <td> 9779617506990</td>\n",
        "      <td>  918962189710</td>\n",
        "      <td>     </td>\n",
        "      <td>  13187</td>\n",
        "      <td>   13927</td>\n",
        "      <td>  NNA716</td>\n",
        "      <td> N</td>\n",
        "      <td> N</td>\n",
        "      <td> 1</td>\n",
        "      <td> 0</td>\n",
        "    </tr>\n",
        "    <tr>\n",
        "      <th>7</th>\n",
        "      <td> 20140627</td>\n",
        "      <td> 00</td>\n",
        "      <td>   616</td>\n",
        "      <td>      </td>\n",
        "      <td> </td>\n",
        "      <td>        </td>\n",
        "      <td>    7322016230</td>\n",
        "      <td>   19196502662</td>\n",
        "      <td> 1351</td>\n",
        "      <td>   1403</td>\n",
        "      <td> 2004265</td>\n",
        "      <td>  NEU716</td>\n",
        "      <td> N</td>\n",
        "      <td> N</td>\n",
        "      <td> 1</td>\n",
        "      <td> 0</td>\n",
        "    </tr>\n",
        "    <tr>\n",
        "      <th>8</th>\n",
        "      <td> 20140627</td>\n",
        "      <td> 00</td>\n",
        "      <td> 27445</td>\n",
        "      <td>      </td>\n",
        "      <td> </td>\n",
        "      <td>        </td>\n",
        "      <td>      91899813</td>\n",
        "      <td>    8291819583</td>\n",
        "      <td>     </td>\n",
        "      <td>    322</td>\n",
        "      <td>     146</td>\n",
        "      <td>     NEV</td>\n",
        "      <td> N</td>\n",
        "      <td> N</td>\n",
        "      <td> 1</td>\n",
        "      <td> 0</td>\n",
        "    </tr>\n",
        "    <tr>\n",
        "      <th>9</th>\n",
        "      <td> 20140627</td>\n",
        "      <td> 00</td>\n",
        "      <td> 32952</td>\n",
        "      <td> 26574</td>\n",
        "      <td> </td>\n",
        "      <td> VTSPREM</td>\n",
        "      <td>   37066185005</td>\n",
        "      <td> 2349096145937</td>\n",
        "      <td>     </td>\n",
        "      <td> 127991</td>\n",
        "      <td>  117605</td>\n",
        "      <td>     FEF</td>\n",
        "      <td> N</td>\n",
        "      <td> N</td>\n",
        "      <td> 1</td>\n",
        "      <td> 0</td>\n",
        "    </tr>\n",
        "  </tbody>\n",
        "</table>\n",
        "<p>10 rows \u00d7 16 columns</p>\n",
        "</div>"
       ],
       "metadata": {},
       "output_type": "pyout",
       "prompt_number": 4,
       "text": [
        "      cdate chour cust_orgno supp_orgno destadmin_orgno servabbr  \\\n",
        "0  20140627    00         36                                       \n",
        "1  20140627    00      15309        499                       TP   \n",
        "2  20140627    00      22381                                       \n",
        "3  20140627    00      15309        499                       TP   \n",
        "4  20140627    00      24284         57                  VTSPREF   \n",
        "5  20140627    00      15309        499                       TP   \n",
        "6  20140627    00      28888        499                  VTSPREM   \n",
        "7  20140627    00        616                                       \n",
        "8  20140627    00      27445                                       \n",
        "9  20140627    00      32952      26574                  VTSPREM   \n",
        "\n",
        "         callgno        calldno origpricingdestid pricingdestid routingdestcd  \\\n",
        "0   213660646009   242800112117               370            99           212   \n",
        "1  9779867710086   917525819747                           13187        119171   \n",
        "2    12103677877      573700845              1469            90           861   \n",
        "3  9779847201600   918483815584                           13187         13948   \n",
        "4    17863451573    19494117781              1421           370       2999995   \n",
        "5  9779866909245   919805607755                           13187        119160   \n",
        "6  9779617506990   918962189710                           13187         13927   \n",
        "7     7322016230    19196502662              1351          1403       2004265   \n",
        "8       91899813     8291819583                             322           146   \n",
        "9    37066185005  2349096145937                          127991        117605   \n",
        "\n",
        "  causecode answind bouncedcallind attempts cvrsn_dur  \n",
        "0   IBLK812       N              N        1         0  \n",
        "1    NNA731       N              N        1         0  \n",
        "2       NEV       N              N        1         0  \n",
        "3    NNA716       N              N        1         0  \n",
        "4    FEV701       N              N        1         0  \n",
        "5       FEF       N              N        1         0  \n",
        "6    NNA716       N              N        1         0  \n",
        "7    NEU716       N              N        1         0  \n",
        "8       NEV       N              N        1         0  \n",
        "9       FEF       N              N        1         0  \n",
        "\n",
        "[10 rows x 16 columns]"
       ]
      }
     ],
     "prompt_number": 4
    },
    {
     "cell_type": "code",
     "collapsed": false,
     "input": [
      "g = graphlab.SGraph()\n",
      "g = g.add_edges(data, src_field='callgno', dst_field='calldno')"
     ],
     "language": "python",
     "metadata": {},
     "outputs": [],
     "prompt_number": 5
    },
    {
     "cell_type": "code",
     "collapsed": false,
     "input": [
      "from graphlab import triangle_counting\n",
      "tc = triangle_counting.create(g)\n",
      "tc_out = tc['triangle_count']"
     ],
     "language": "python",
     "metadata": {},
     "outputs": [],
     "prompt_number": 6
    },
    {
     "cell_type": "code",
     "collapsed": false,
     "input": [
      "tc_out.save(\"xyz\",'csv')"
     ],
     "language": "python",
     "metadata": {},
     "outputs": [],
     "prompt_number": 6
    },
    {
     "cell_type": "code",
     "collapsed": false,
     "input": [
      "tc_out"
     ],
     "language": "python",
     "metadata": {},
     "outputs": [
      {
       "metadata": {},
       "output_type": "pyout",
       "prompt_number": 7,
       "text": [
        "Columns:\n",
        "\t__id\tstr\n",
        "\ttriangle_count\tint\n",
        "\n",
        "Rows: 932102\n",
        "\n",
        "Data:\n",
        "               __id  triangle_count\n",
        "0        0000000057               0\n",
        "1        0000000091               0\n",
        "2        0000004676               0\n",
        "3  0000055114316128               0\n",
        "4        0000123461               0\n",
        "5     0000502307976               0\n",
        "6      000190853208               0\n",
        "7      000196852206               0\n",
        "8          00023115               0\n",
        "9         000371115               0\n",
        "\n",
        "...\n",
        "[932102 rows x 2 columns]\n"
       ]
      }
     ],
     "prompt_number": 7
    },
    {
     "cell_type": "code",
     "collapsed": false,
     "input": [
      "tc.summary()"
     ],
     "language": "python",
     "metadata": {},
     "outputs": [
      {
       "metadata": {},
       "output_type": "pyout",
       "prompt_number": 8,
       "text": [
        "{'hyperparams': {}, 'num_triangles': 355207, 'runtime': 122.729509}"
       ]
      }
     ],
     "prompt_number": 8
    },
    {
     "cell_type": "code",
     "collapsed": false,
     "input": [
      "tempdf = tc.get('triangle_count').to_dataframe()"
     ],
     "language": "python",
     "metadata": {},
     "outputs": [],
     "prompt_number": 9
    },
    {
     "cell_type": "code",
     "collapsed": false,
     "input": [
      "tempdf.head()\n",
      "tempdf = tempdf.sort('triangle_count', ascending=False)\n",
      "tempdf[0:10]"
     ],
     "language": "python",
     "metadata": {},
     "outputs": [
      {
       "html": [
        "<div style=\"max-height:1000px;max-width:1500px;overflow:auto;\">\n",
        "<table border=\"1\" class=\"dataframe\">\n",
        "  <thead>\n",
        "    <tr style=\"text-align: right;\">\n",
        "      <th></th>\n",
        "      <th>__id</th>\n",
        "      <th>triangle_count</th>\n",
        "    </tr>\n",
        "  </thead>\n",
        "  <tbody>\n",
        "    <tr>\n",
        "      <th>815511</th>\n",
        "      <td>             </td>\n",
        "      <td> 1044088</td>\n",
        "    </tr>\n",
        "    <tr>\n",
        "      <th>253424</th>\n",
        "      <td>  16504793213</td>\n",
        "      <td>    1840</td>\n",
        "    </tr>\n",
        "    <tr>\n",
        "      <th>762004</th>\n",
        "      <td>   6531576447</td>\n",
        "      <td>    1332</td>\n",
        "    </tr>\n",
        "    <tr>\n",
        "      <th>173812</th>\n",
        "      <td>  61386521794</td>\n",
        "      <td>    1291</td>\n",
        "    </tr>\n",
        "    <tr>\n",
        "      <th>718940</th>\n",
        "      <td>  16504793212</td>\n",
        "      <td>    1234</td>\n",
        "    </tr>\n",
        "    <tr>\n",
        "      <th>88903 </th>\n",
        "      <td> 912066357371</td>\n",
        "      <td>     235</td>\n",
        "    </tr>\n",
        "    <tr>\n",
        "      <th>123387</th>\n",
        "      <td>  13053570815</td>\n",
        "      <td>      60</td>\n",
        "    </tr>\n",
        "    <tr>\n",
        "      <th>72166 </th>\n",
        "      <td>  85234101116</td>\n",
        "      <td>      41</td>\n",
        "    </tr>\n",
        "    <tr>\n",
        "      <th>270914</th>\n",
        "      <td> 380966456116</td>\n",
        "      <td>      36</td>\n",
        "    </tr>\n",
        "    <tr>\n",
        "      <th>11192 </th>\n",
        "      <td>  14072185582</td>\n",
        "      <td>      34</td>\n",
        "    </tr>\n",
        "  </tbody>\n",
        "</table>\n",
        "<p>10 rows \u00d7 2 columns</p>\n",
        "</div>"
       ],
       "metadata": {},
       "output_type": "pyout",
       "prompt_number": 10,
       "text": [
        "                __id  triangle_count\n",
        "815511                       1044088\n",
        "253424   16504793213            1840\n",
        "762004    6531576447            1332\n",
        "173812   61386521794            1291\n",
        "718940   16504793212            1234\n",
        "88903   912066357371             235\n",
        "123387   13053570815              60\n",
        "72166    85234101116              41\n",
        "270914  380966456116              36\n",
        "11192    14072185582              34\n",
        "\n",
        "[10 rows x 2 columns]"
       ]
      }
     ],
     "prompt_number": 10
    },
    {
     "cell_type": "code",
     "collapsed": false,
     "input": [
      "\n",
      "# def fetchSuspectCallers(callers,threshold):\n",
      "    \n",
      "#     print callers[0]\n",
      "#     callers = callers[callers.traingle_count> threshold]\n",
      "#     return callers\n",
      "\n",
      "   \n",
      "    \n",
      "    \n"
     ],
     "language": "python",
     "metadata": {},
     "outputs": [],
     "prompt_number": 11
    },
    {
     "cell_type": "code",
     "collapsed": false,
     "input": [
      "#tempdf['traingle_count' > 100]\n",
      "def fetchSuspectCallers(callers,threshold):\n",
      "    #tempdf.columns\n",
      "    x = callers[callers.triangle_count > threshold]\n",
      "    #returndf = fetchSuspectCallers(tempdf,235)\n",
      "    return x\n",
      " "
     ],
     "language": "python",
     "metadata": {},
     "outputs": [
      {
       "output_type": "stream",
       "stream": "stdout",
       "text": [
        "                __id  triangle_count\n",
        "815511                       1044088\n",
        "253424   16504793213            1840\n",
        "762004    6531576447            1332\n",
        "173812   61386521794            1291\n",
        "718940   16504793212            1234\n",
        "88903   912066357371             235\n",
        "123387   13053570815              60\n",
        "\n",
        "[7 rows x 2 columns]\n"
       ]
      }
     ],
     "prompt_number": 21
    },
    {
     "cell_type": "code",
     "collapsed": false,
     "input": [],
     "language": "python",
     "metadata": {},
     "outputs": []
    },
    {
     "cell_type": "code",
     "collapsed": false,
     "input": [
      "import pandas as pd"
     ],
     "language": "python",
     "metadata": {},
     "outputs": [],
     "prompt_number": 27
    },
    {
     "cell_type": "code",
     "collapsed": false,
     "input": [
      "df = pd.read_csv(\"hack_small.csv\")\n",
      "df = df.dropna(subset = [\"callgno\"])\n",
      "df = df.dropna(subset = [\"calldno\"])\n",
      "df.shape"
     ],
     "language": "python",
     "metadata": {},
     "outputs": [
      {
       "metadata": {},
       "output_type": "pyout",
       "prompt_number": 45,
       "text": [
        "(952818, 16)"
       ]
      }
     ],
     "prompt_number": 45
    },
    {
     "cell_type": "code",
     "collapsed": false,
     "input": [
      "ls -al"
     ],
     "language": "python",
     "metadata": {},
     "outputs": [
      {
       "output_type": "stream",
       "stream": "stdout",
       "text": [
        "total 189744\r\n",
        "drwxr-xr-x  12 Prasad  staff       408 Jul 12 19:11 \u001b[34m.\u001b[m\u001b[m/\r\n",
        "drwxr-xr-x  48 Prasad  staff      1632 Jul 12 12:19 \u001b[34m..\u001b[m\u001b[m/\r\n",
        "-rw-r--r--@  1 Prasad  staff      6148 Jul 12 18:51 .DS_Store\r\n",
        "drwxr-xr-x   3 Prasad  staff       102 Jul 12 14:11 \u001b[34m.ipynb_checkpoints\u001b[m\u001b[m/\r\n",
        "-rw-r--r--   1 Prasad  staff     23069 Jul 12 20:17 Datahack14.ipynb\r\n",
        "drwxr-xr-x   4 Prasad  staff       136 Jul 11 20:07 \u001b[34mdata\u001b[m\u001b[m/\r\n",
        "-rw-r--r--   1 Prasad  staff       411 Jul 12 17:12 generate_nodes.py\r\n",
        "-rw-r--r--   1 Prasad  staff  81851636 Jul 12 12:49 hack_small.csv\r\n",
        "-rw-r--r--   1 Prasad  staff         0 Jul 12 17:15 node_edges.csv\r\n",
        "-rw-r--r--   1 Prasad  staff     23731 Jul 11 21:16 node_edges_sample.csv\r\n",
        "-rw-r--r--   1 Prasad  staff        72 Jul 12 19:11 test.txt\r\n",
        "-rw-r--r--   1 Prasad  staff  15228028 Jul 12 16:15 xyz.csv\r\n"
       ]
      }
     ],
     "prompt_number": 44
    },
    {
     "cell_type": "code",
     "collapsed": false,
     "input": [
      "df.shape"
     ],
     "language": "python",
     "metadata": {},
     "outputs": [
      {
       "metadata": {},
       "output_type": "pyout",
       "prompt_number": 46,
       "text": [
        "(952818, 16)"
       ]
      }
     ],
     "prompt_number": 46
    },
    {
     "cell_type": "code",
     "collapsed": false,
     "input": [
      "# numbers = ['16504793213','6531576447']#,61386521794,16504793212,912066357371,13053570815]\n",
      "df_new = df\n",
      "df_new['label'] = 0\n",
      "print len(df_new)\n",
      "\n",
      "for num in numbers:\n",
      "    ind = df_new[df_new['callgno'] == num].index\n",
      "    df_new.loc[ind,'label']=1\n",
      "    ind2 = df_new[df_new['calldno'] == num].index\n",
      "    df_new.loc[ind2,'label']=1\n",
      "    #X[['calldno' == num]]['label'] = 1\n",
      "df_new.label.value_counts()"
     ],
     "language": "python",
     "metadata": {},
     "outputs": [
      {
       "output_type": "stream",
       "stream": "stdout",
       "text": [
        "952818\n"
       ]
      },
      {
       "metadata": {},
       "output_type": "pyout",
       "prompt_number": 55,
       "text": [
        "0    951666\n",
        "1      1152\n",
        "dtype: int64"
       ]
      }
     ],
     "prompt_number": 55
    },
    {
     "cell_type": "code",
     "collapsed": false,
     "input": [],
     "language": "python",
     "metadata": {},
     "outputs": [],
     "prompt_number": 38
    },
    {
     "cell_type": "code",
     "collapsed": false,
     "input": [
      "#df.shape"
     ],
     "language": "python",
     "metadata": {},
     "outputs": [],
     "prompt_number": 47
    }
   ],
   "metadata": {}
  }
 ]
}