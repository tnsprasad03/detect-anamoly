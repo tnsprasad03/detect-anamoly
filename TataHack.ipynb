{
 "metadata": {
  "name": "",
  "signature": "sha256:db596115202856a34a1ab3d8223e61f1f5d712050e431bc54df7bd0177fb2f50"
 },
 "nbformat": 3,
 "nbformat_minor": 0,
 "worksheets": [
  {
   "cells": [
    {
     "cell_type": "code",
     "collapsed": false,
     "input": [
      "import pandas as pd\n",
      "import seaborn\n",
      "import networkx as nx\n",
      "import matplotlib.pyplot as plt\n",
      "import numpy as np\n",
      "import pandas as pd\n",
      "import pandas as pd\n",
      "import os"
     ],
     "language": "python",
     "metadata": {},
     "outputs": [],
     "prompt_number": 4
    },
    {
     "cell_type": "code",
     "collapsed": false,
     "input": [
      "df = pd.read_csv(\"hack_small.csv\")\n",
      "df= df.dropna(subset = [\"callgno\",\"callgno\"])\n",
      "N_TOP = 9000\n",
      "\n",
      "print df.shape"
     ],
     "language": "python",
     "metadata": {},
     "outputs": [
      {
       "output_type": "stream",
       "stream": "stdout",
       "text": [
        "(953038, 16)\n"
       ]
      },
      {
       "output_type": "stream",
       "stream": "stderr",
       "text": [
        "/usr/lib/python2.7/dist-packages/pandas/io/parsers.py:1070: DtypeWarning: Columns (7) have mixed types. Specify dtype option on import or set low_memory=False.\n",
        "  data = self._reader.read(nrows)\n"
       ]
      }
     ],
     "prompt_number": 5
    },
    {
     "cell_type": "code",
     "collapsed": false,
     "input": [
      "\n",
      "df['count_sum'] = 1\n",
      "\n",
      "x = df[[\"callgno\",\"calldno\"]].groupby(\"callgno\")\n",
      "df_NumberOfUniqueCallees = x.apply(lambda x: len(set(x['calldno'])))\n"
     ],
     "language": "python",
     "metadata": {},
     "outputs": [],
     "prompt_number": 6
    },
    {
     "cell_type": "code",
     "collapsed": false,
     "input": [
      "df_NumberOfUniqueCallees = df_NumberOfUniqueCallees.order(ascending=False)"
     ],
     "language": "python",
     "metadata": {},
     "outputs": [],
     "prompt_number": 7
    },
    {
     "cell_type": "code",
     "collapsed": false,
     "input": [
      "\n",
      "temp = df_NumberOfUniqueCallees[0:100]\n",
      "fig, ax = plt.subplots()\n",
      "rects1 = ax.bar(range(0,len(temp)), temp.values,color='r')\n",
      "ax.set_xticklabels(temp.index )"
     ],
     "language": "python",
     "metadata": {},
     "outputs": [
      {
       "metadata": {},
       "output_type": "pyout",
       "prompt_number": 8,
       "text": [
        "[<matplotlib.text.Text at 0xa743a54c>,\n",
        " <matplotlib.text.Text at 0xa7448f6c>,\n",
        " <matplotlib.text.Text at 0xa84226ac>,\n",
        " <matplotlib.text.Text at 0xa83fb4cc>,\n",
        " <matplotlib.text.Text at 0xa847626c>,\n",
        " <matplotlib.text.Text at 0xa845950c>]"
       ]
      },
      {
       "output_type": "stream",
       "stream": "stderr",
       "text": [
        "/usr/lib/pymodules/python2.7/matplotlib/font_manager.py:1236: UserWarning: findfont: Font family ['Arial'] not found. Falling back to Bitstream Vera Sans\n",
        "  (prop.get_family(), self.defaultFamily[fontext]))\n",
        "/usr/lib/pymodules/python2.7/matplotlib/font_manager.py:1246: UserWarning: findfont: Could not match :family=Bitstream Vera Sans:style=normal:variant=normal:weight=normal:stretch=normal:size=10.0. Returning /usr/share/matplotlib/mpl-data/fonts/ttf/cmb10.ttf\n",
        "  UserWarning)\n"
       ]
      },
      {
       "metadata": {},
       "output_type": "display_data",
       "png": "[encoded data removed]",
       "text": [
        "<matplotlib.figure.Figure at 0xa7325c8c>"
       ]
      }
     ],
     "prompt_number": 8
    },
    {
     "cell_type": "heading",
     "level": 1,
     "metadata": {},
     "source": []
    },
    {
     "cell_type": "heading",
     "level": 4,
     "metadata": {},
     "source": [
      "Second Alert is to look at the conversation duration for specific Called Numbers. The idea here is that fraudsters who leave missed calls or entice those to call them back, would have a higher cumulative call duration than the average."
     ]
    },
    {
     "cell_type": "code",
     "collapsed": false,
     "input": [
      "x = df.groupby(\"calldno\").sum()\n",
      "sorted_conv_duration = x.sort(\"cvrsn_dur\",ascending=False)[\"cvrsn_dur\"]\n"
     ],
     "language": "python",
     "metadata": {},
     "outputs": [],
     "prompt_number": 9
    },
    {
     "cell_type": "code",
     "collapsed": false,
     "input": [
      "fig, ax = plt.subplots()\n",
      "rects1 = ax.bar(range(0,len(sorted_conv_duration[0:100])), sorted_conv_duration.values[0:100], log = False,color='r')\n",
      "ax.set_xticklabels( sorted_conv_duration.index[0:100] )"
     ],
     "language": "python",
     "metadata": {},
     "outputs": [
      {
       "metadata": {},
       "output_type": "pyout",
       "prompt_number": 10,
       "text": [
        "[<matplotlib.text.Text at 0xa8823d2c>,\n",
        " <matplotlib.text.Text at 0xa734a92c>,\n",
        " <matplotlib.text.Text at 0xa913ac6c>,\n",
        " <matplotlib.text.Text at 0xa91402cc>,\n",
        " <matplotlib.text.Text at 0xa9140a2c>,\n",
        " <matplotlib.text.Text at 0xa91441ac>]"
       ]
      },
      {
       "metadata": {},
       "output_type": "display_data",
       "png": "[encoded data removed]",
       "text": [
        "<matplotlib.figure.Figure at 0xaa0bfeac>"
       ]
      }
     ],
     "prompt_number": 10
    },
    {
     "cell_type": "heading",
     "level": 1,
     "metadata": {},
     "source": [
      "Now lets move on to the Next Flag - Number of Unique Callers for each International Phone Number"
     ]
    },
    {
     "cell_type": "code",
     "collapsed": false,
     "input": [
      "x = df[[\"callgno\",\"calldno\"]].groupby(\"calldno\")\n",
      "df_NumberOfUniqueCallers = x.apply(lambda x: len(set(x['callgno'])))\n"
     ],
     "language": "python",
     "metadata": {},
     "outputs": [],
     "prompt_number": 11
    },
    {
     "cell_type": "code",
     "collapsed": false,
     "input": [
      "df_NumberOfUniqueCallees = df_NumberOfUniqueCallees.order(ascending=False)\n",
      "\n",
      "temp = df_NumberOfUniqueCallees[0:100]\n",
      "fig, ax = plt.subplots()\n",
      "rects1 = ax.bar(range(0,len(temp)), temp.values,color='r')\n",
      "ax.set_xticklabels(temp.index )\n"
     ],
     "language": "python",
     "metadata": {},
     "outputs": [
      {
       "metadata": {},
       "output_type": "pyout",
       "prompt_number": 12,
       "text": [
        "[<matplotlib.text.Text at 0xa987942c>,\n",
        " <matplotlib.text.Text at 0xa916e50c>,\n",
        " <matplotlib.text.Text at 0xa8ffed8c>,\n",
        " <matplotlib.text.Text at 0xa90043ec>,\n",
        " <matplotlib.text.Text at 0xa9004b4c>,\n",
        " <matplotlib.text.Text at 0xa90092ec>]"
       ]
      },
      {
       "metadata": {},
       "output_type": "display_data",
       "png": "[encoded data removed]",
       "text": [
        "<matplotlib.figure.Figure at 0xaa0bff6c>"
       ]
      }
     ],
     "prompt_number": 12
    },
    {
     "cell_type": "markdown",
     "metadata": {},
     "source": [
      "Now that we have all 3 Alerts, we can create a new feature matrix that is based on phone numbers and the 3 different alerts. Note that these alerts are based on a specific given time window (1 day) in this case. For future work, consider making this whole analysis a time series analysis where each phone number has a moving window for these three metrics."
     ]
    },
    {
     "cell_type": "code",
     "collapsed": false,
     "input": [
      "# create node matrix\n",
      "df_NumberOfUniqueCallers\n",
      "sorted_conv_duration\n",
      "#df_NumberOfUniqueCallees\n",
      "temp = df_NumberOfUniqueCallees[0:70]\n",
      "temp.to_csv(\"anomalies.csv\")"
     ],
     "language": "python",
     "metadata": {},
     "outputs": [],
     "prompt_number": 13
    },
    {
     "cell_type": "code",
     "collapsed": false,
     "input": [
      "df_NumberOfUniqueCallees[0:10]"
     ],
     "language": "python",
     "metadata": {},
     "outputs": [
      {
       "metadata": {},
       "output_type": "pyout",
       "prompt_number": 48,
       "text": [
        "callgno\n",
        "99999904       18366\n",
        "61386442953    15600\n",
        "19854698828     7430\n",
        "0000000005      6303\n",
        "2341239         5406\n",
        "13094740868     4519\n",
        "6046706699      3568\n",
        "19896832644     3356\n",
        "61381993318     3184\n",
        "31206955948     3149\n",
        "dtype: int64"
       ]
      }
     ],
     "prompt_number": 48
    },
    {
     "cell_type": "heading",
     "level": 1,
     "metadata": {},
     "source": [
      "Graph Clustering to Detect Anomalies"
     ]
    },
    {
     "cell_type": "code",
     "collapsed": false,
     "input": [
      "from sklearn.decomposition import PCA, KernelPCA\n",
      "import matplotlib.pyplot as plt\n",
      "X = find_graph_metrics(G)\n",
      "pca = PCA(n_components=2)\n",
      "pca.fit(np.real(X))\n",
      "X_lowed = pca.transform(np.real(X))\n",
      "plt.plot(pca.explained_variance_)\n",
      "plt.plot(X_lowed[:,0], X_lowed[:,1],'o')"
     ],
     "language": "python",
     "metadata": {},
     "outputs": [],
     "prompt_number": 14
    },
    {
     "cell_type": "code",
     "collapsed": false,
     "input": [
      "from IPython.core.display import Image \n",
      "Image(filename='cluster.png')"
     ],
     "language": "python",
     "metadata": {},
     "outputs": [
      {
       "metadata": {},
       "output_type": "pyout",
       "png": "[encoded data removed]",
       "prompt_number": 49,
       "text": [
        "<IPython.core.display.Image at 0x9f65796c>"
       ]
      }
     ],
     "prompt_number": 49
    },
    {
     "cell_type": "code",
     "collapsed": false,
     "input": [],
     "language": "python",
     "metadata": {},
     "outputs": [],
     "prompt_number": 14
    },
    {
     "cell_type": "heading",
     "level": 1,
     "metadata": {},
     "source": [
      "REINFORCEMENT LEARNING"
     ]
    },
    {
     "cell_type": "code",
     "collapsed": false,
     "input": [
      "import pandas as pd\n",
      "df = pd.read_csv(\"hack_small.csv\")\n",
      "df = df.dropna(subset = [\"callgno\"])\n",
      "df = df.dropna(subset = [\"calldno\"])\n",
      "df.shape"
     ],
     "language": "python",
     "metadata": {},
     "outputs": [
      {
       "metadata": {},
       "output_type": "pyout",
       "prompt_number": 15,
       "text": [
        "(952818, 16)"
       ]
      }
     ],
     "prompt_number": 15
    },
    {
     "cell_type": "heading",
     "level": 2,
     "metadata": {},
     "source": [
      "Feed the Anamolies produced from D3 graph visualization into Supervised learning"
     ]
    },
    {
     "cell_type": "code",
     "collapsed": false,
     "input": [
      "numbers = df_NumberOfUniqueCallees[0:10].index#['16504793213','6531576447','61386521794','16504793212','912066357371','13053570815']\n",
      "df_new = df\n",
      "df_new['label'] = 0\n",
      "print len(df_new)\n",
      "\n",
      "for num in numbers:\n",
      "    ind = df_new[df_new['callgno'] == num].index\n",
      "    df_new.loc[ind,'label']=1\n",
      "    ind2 = df_new[df_new['calldno'] == num].index\n",
      "    df_new.loc[ind2,'label']=1\n",
      "df_new.label.value_counts()"
     ],
     "language": "python",
     "metadata": {},
     "outputs": [
      {
       "output_type": "stream",
       "stream": "stdout",
       "text": [
        "952818\n"
       ]
      },
      {
       "metadata": {},
       "output_type": "pyout",
       "prompt_number": 34,
       "text": [
        "0    826038\n",
        "1    126780\n",
        "dtype: int64"
       ]
      }
     ],
     "prompt_number": 34
    },
    {
     "cell_type": "code",
     "collapsed": false,
     "input": [
      "df_new.to_csv(\"rf_feature\")"
     ],
     "language": "python",
     "metadata": {},
     "outputs": [],
     "prompt_number": 35
    },
    {
     "cell_type": "code",
     "collapsed": false,
     "input": [
      "df_final = df_new[['answind','origpricingdestid','routingdestcd','supp_orgno','cvrsn_dur','attempts','cust_orgno','pricingdestid']]\n"
     ],
     "language": "python",
     "metadata": {},
     "outputs": [],
     "prompt_number": 36
    },
    {
     "cell_type": "code",
     "collapsed": false,
     "input": [
      "ind = df_final[df_final['answind'] == 'N'].index\n",
      "df_final.loc[ind,'answind']=0\n",
      "ind1 = df_final[df_final['answind'] == 'Y'].index\n",
      "df_final.loc[ind1,'answind']=1"
     ],
     "language": "python",
     "metadata": {},
     "outputs": [],
     "prompt_number": 37
    },
    {
     "cell_type": "code",
     "collapsed": false,
     "input": [
      "df_final.describe()"
     ],
     "language": "python",
     "metadata": {},
     "outputs": [
      {
       "html": [
        "<div style=\"max-height:1000px;max-width:1500px;overflow:auto;\">\n",
        "<table border=\"1\" class=\"dataframe\">\n",
        "  <thead>\n",
        "    <tr style=\"text-align: right;\">\n",
        "      <th></th>\n",
        "      <th>origpricingdestid</th>\n",
        "      <th>routingdestcd</th>\n",
        "      <th>supp_orgno</th>\n",
        "      <th>cvrsn_dur</th>\n",
        "      <th>attempts</th>\n",
        "      <th>cust_orgno</th>\n",
        "      <th>pricingdestid</th>\n",
        "    </tr>\n",
        "  </thead>\n",
        "  <tbody>\n",
        "    <tr>\n",
        "      <th>count</th>\n",
        "      <td> 491035.000000</td>\n",
        "      <td>  948674.000000</td>\n",
        "      <td> 884270.000000</td>\n",
        "      <td> 952818.000000</td>\n",
        "      <td> 952818</td>\n",
        "      <td> 952398.000000</td>\n",
        "      <td> 939753.000000</td>\n",
        "    </tr>\n",
        "    <tr>\n",
        "      <th>mean</th>\n",
        "      <td>   2388.611781</td>\n",
        "      <td>  188803.808176</td>\n",
        "      <td>  13076.910513</td>\n",
        "      <td>     73.000093</td>\n",
        "      <td>      1</td>\n",
        "      <td>  17196.875234</td>\n",
        "      <td>  24466.707023</td>\n",
        "    </tr>\n",
        "    <tr>\n",
        "      <th>std</th>\n",
        "      <td>  11033.162165</td>\n",
        "      <td>  542311.897886</td>\n",
        "      <td>  11016.188212</td>\n",
        "      <td>    296.412519</td>\n",
        "      <td>      0</td>\n",
        "      <td>  10360.366740</td>\n",
        "      <td>  45238.876885</td>\n",
        "    </tr>\n",
        "    <tr>\n",
        "      <th>min</th>\n",
        "      <td>      7.000000</td>\n",
        "      <td>       3.000000</td>\n",
        "      <td>     20.000000</td>\n",
        "      <td>      0.000000</td>\n",
        "      <td>      1</td>\n",
        "      <td>     20.000000</td>\n",
        "      <td>      2.000000</td>\n",
        "    </tr>\n",
        "    <tr>\n",
        "      <th>25%</th>\n",
        "      <td>    370.000000</td>\n",
        "      <td>     343.000000</td>\n",
        "      <td>   2211.000000</td>\n",
        "      <td>      0.000000</td>\n",
        "      <td>      1</td>\n",
        "      <td>   6511.000000</td>\n",
        "      <td>    198.000000</td>\n",
        "    </tr>\n",
        "    <tr>\n",
        "      <th>50%</th>\n",
        "      <td>   1212.000000</td>\n",
        "      <td>    8793.000000</td>\n",
        "      <td>  15964.000000</td>\n",
        "      <td>      0.000000</td>\n",
        "      <td>      1</td>\n",
        "      <td>  21092.000000</td>\n",
        "      <td>   1212.000000</td>\n",
        "    </tr>\n",
        "    <tr>\n",
        "      <th>75%</th>\n",
        "      <td>   1394.000000</td>\n",
        "      <td>  115939.000000</td>\n",
        "      <td>  24284.000000</td>\n",
        "      <td>      6.000000</td>\n",
        "      <td>      1</td>\n",
        "      <td>  25256.000000</td>\n",
        "      <td>  15467.000000</td>\n",
        "    </tr>\n",
        "    <tr>\n",
        "      <th>max</th>\n",
        "      <td> 138741.000000</td>\n",
        "      <td> 3000022.000000</td>\n",
        "      <td>  34793.000000</td>\n",
        "      <td>   5313.000000</td>\n",
        "      <td>      1</td>\n",
        "      <td>  34722.000000</td>\n",
        "      <td> 145305.000000</td>\n",
        "    </tr>\n",
        "  </tbody>\n",
        "</table>\n",
        "<p>8 rows \u00d7 7 columns</p>\n",
        "</div>"
       ],
       "metadata": {},
       "output_type": "pyout",
       "prompt_number": 38,
       "text": [
        "       origpricingdestid   routingdestcd     supp_orgno      cvrsn_dur  \\\n",
        "count      491035.000000   948674.000000  884270.000000  952818.000000   \n",
        "mean         2388.611781   188803.808176   13076.910513      73.000093   \n",
        "std         11033.162165   542311.897886   11016.188212     296.412519   \n",
        "min             7.000000        3.000000      20.000000       0.000000   \n",
        "25%           370.000000      343.000000    2211.000000       0.000000   \n",
        "50%          1212.000000     8793.000000   15964.000000       0.000000   \n",
        "75%          1394.000000   115939.000000   24284.000000       6.000000   \n",
        "max        138741.000000  3000022.000000   34793.000000    5313.000000   \n",
        "\n",
        "       attempts     cust_orgno  pricingdestid  \n",
        "count    952818  952398.000000  939753.000000  \n",
        "mean          1   17196.875234   24466.707023  \n",
        "std           0   10360.366740   45238.876885  \n",
        "min           1      20.000000       2.000000  \n",
        "25%           1    6511.000000     198.000000  \n",
        "50%           1   21092.000000    1212.000000  \n",
        "75%           1   25256.000000   15467.000000  \n",
        "max           1   34722.000000  145305.000000  \n",
        "\n",
        "[8 rows x 7 columns]"
       ]
      }
     ],
     "prompt_number": 38
    },
    {
     "cell_type": "code",
     "collapsed": false,
     "input": [
      "df_final.columns\n",
      "df_final = df_final.fillna(method = 'bfill',axis = 0)\n",
      "y = df['label'].values\n",
      "len(df_final)"
     ],
     "language": "python",
     "metadata": {},
     "outputs": [
      {
       "metadata": {},
       "output_type": "pyout",
       "prompt_number": 39,
       "text": [
        "952818"
       ]
      }
     ],
     "prompt_number": 39
    },
    {
     "cell_type": "code",
     "collapsed": false,
     "input": [
      "X = np.array(df_final)\n",
      "len(X)"
     ],
     "language": "python",
     "metadata": {},
     "outputs": [
      {
       "metadata": {},
       "output_type": "pyout",
       "prompt_number": 40,
       "text": [
        "952818"
       ]
      }
     ],
     "prompt_number": 40
    },
    {
     "cell_type": "heading",
     "level": 1,
     "metadata": {},
     "source": [
      "SparK can be used on Big Data Real-time Streaming detection of Anomalies to scale at Peta Bytes"
     ]
    },
    {
     "cell_type": "code",
     "collapsed": false,
     "input": [
      "from sklearn.linear_model import LogisticRegression\n",
      "from sklearn.cross_validation import train_test_split\n",
      "from sklearn.ensemble import RandomForestClassifier\n",
      "from sklearn import cross_validation\n",
      "\n",
      "X_train, X_test, y_train, y_test = train_test_split(X, y, test_size=0.1, random_state=42)\n",
      "\n",
      "print \"Running Logistic Regression ...\"\n",
      "clf  = RandomForestClassifier(n_estimators=10,min_samples_leaf=3)\n",
      "\n",
      "clf = clf.fit(X_train, y_train)\n",
      "scores = cross_validation.cross_val_score(clf, X, y, cv=5)\n",
      "print \"%s -- %s\" % (clf.__class__, np.mean(scores))\n",
      "probas_ = clf.predict_proba(X_test)"
     ],
     "language": "python",
     "metadata": {},
     "outputs": [
      {
       "output_type": "stream",
       "stream": "stdout",
       "text": [
        "Running Logistic Regression ...\n",
        "<class 'sklearn.ensemble.forest.RandomForestClassifier'> -- 0.962787226362"
       ]
      },
      {
       "output_type": "stream",
       "stream": "stdout",
       "text": [
        "\n"
       ]
      }
     ],
     "prompt_number": 43
    },
    {
     "cell_type": "code",
     "collapsed": false,
     "input": [
      "from sklearn.metrics import roc_curve, auc\n",
      "\n",
      "# Compute ROC curve and area the curve\n",
      "fpr, tpr, thresholds = roc_curve(y_test, probas_[:, 1])\n",
      "roc_auc = auc(fpr, tpr)\n",
      "print(\"Area under the ROC curve : %f\" % roc_auc)\n",
      "\n",
      "# Plot ROC curve\n",
      "plt.clf()\n",
      "plt.plot(fpr, tpr, label='ROC curve (area = %0.2f)' % roc_auc)\n",
      "plt.plot([0, 1], [0, 1], 'k--')\n",
      "plt.xlim([0.0, 1.0])\n",
      "plt.ylim([0.0, 1.0])\n",
      "plt.xlabel('False Positive Rate')\n",
      "plt.ylabel('True Positive Rate')\n",
      "plt.title('Receiver operating characteristic example')\n",
      "plt.legend(loc=\"lower right\")\n",
      "plt.show()"
     ],
     "language": "python",
     "metadata": {},
     "outputs": [
      {
       "output_type": "stream",
       "stream": "stdout",
       "text": [
        "Area under the ROC curve : 0.989874\n"
       ]
      },
      {
       "metadata": {},
       "output_type": "display_data",
       "png": "[encoded data removed]",
       "text": [
        "<matplotlib.figure.Figure at 0x9f9d478c>"
       ]
      }
     ],
     "prompt_number": 45
    },
    {
     "cell_type": "code",
     "collapsed": false,
     "input": [],
     "language": "python",
     "metadata": {},
     "outputs": []
    }
   ],
   "metadata": {}
  }
 ]
}